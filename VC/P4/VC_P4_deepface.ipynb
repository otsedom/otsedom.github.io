{
 "cells": [
  {
   "cell_type": "markdown",
   "metadata": {},
   "source": [
    "Detección de caras con webcam"
   ]
  },
  {
   "cell_type": "code",
   "execution_count": 1,
   "metadata": {},
   "outputs": [],
   "source": [
    "import cv2\n",
    "import time\n",
    "#from deepface import DeepFace\n",
    "from retinaface import RetinaFace\n"
   ]
  },
  {
   "cell_type": "markdown",
   "metadata": {},
   "source": [
    "Deepface\n",
    "\n",
    "Deepface crea directorios para descargar los modelos, cuidado si tienes el disco bastante lleno. Es posible configurar la ruta, en mi caso uso  E:\\RUNNERS_code\\code\\DeepFace, tras definir la ruta a través de la variable de entorno DEEPFACE_HOME\n",
    "\n",
    "pip install retina-face o pip install deepface"
   ]
  },
  {
   "cell_type": "code",
   "execution_count": 2,
   "metadata": {},
   "outputs": [
    {
     "name": "stdout",
     "output_type": "stream",
     "text": [
      "Camera 0\n",
      "{'score': 0.9982748031616211, 'facial_area': [296, 69, 473, 337], 'landmarks': {'right_eye': [347.75568, 171.15334], 'left_eye': [429.31738, 165.02126], 'nose': [394.9876, 220.45457], 'mouth_right': [362.8612, 274.00974], 'mouth_left': [425.7317, 268.1418]}}\n",
      "{'score': 0.9982142448425293, 'facial_area': [271, 72, 446, 330], 'landmarks': {'right_eye': [313.93228, 173.11073], 'left_eye': [397.29645, 164.26385], 'nose': [358.6581, 216.41054], 'mouth_right': [332.785, 270.43484], 'mouth_left': [395.94977, 262.36337]}}\n",
      "{'score': 0.9981675148010254, 'facial_area': [265, 65, 446, 319], 'landmarks': {'right_eye': [310.4292, 166.93658], 'left_eye': [394.71326, 155.13037], 'nose': [357.16608, 207.04785], 'mouth_right': [332.02905, 262.61203], 'mouth_left': [395.8626, 251.78975]}}\n",
      "{'score': 0.998856782913208, 'facial_area': [308, 75, 490, 356], 'landmarks': {'right_eye': [356.71143, 184.16426], 'left_eye': [444.06372, 184.6745], 'nose': [399.82446, 242.42488], 'mouth_right': [364.8215, 289.1547], 'mouth_left': [432.8499, 289.10065]}}\n",
      "{'score': 0.9976196885108948, 'facial_area': [292, 72, 477, 350], 'landmarks': {'right_eye': [331.5775, 186.18402], 'left_eye': [417.80386, 190.29471], 'nose': [366.74045, 248.90475], 'mouth_right': [337.3273, 283.08084], 'mouth_left': [409.71344, 286.54614]}}\n"
     ]
    }
   ],
   "source": [
    "# Webcam connection\n",
    "cap = cv2.VideoCapture(0)\n",
    "# Check for other cameras\n",
    "if not cap.isOpened():\n",
    "    cap = cv2.VideoCapture(1)\n",
    "    if not cap.isOpened():\n",
    "        cap = cv2.VideoCapture(0)\n",
    "        if not cap.isOpened():\n",
    "            print('Camera error')\n",
    "            exit(0)\n",
    "        else:\n",
    "            print('Camera 0')\n",
    "    else:\n",
    "        print('Camera 1')\n",
    "else:\n",
    "    print('Camera 0')\n",
    "\n",
    "#Set camera resolution\n",
    "cap.set(3,640);\n",
    "cap.set(4,480);\n",
    "\n",
    "while True:\n",
    "    # Get frame\n",
    "    t = time.time()\n",
    "    ret, frame = cap.read()\n",
    "\n",
    "\n",
    "    #Deepface detecta caras y se queda con primera\n",
    "    #face = DeepFace.detectFace(img_path = frame, \n",
    "    #    target_size = (224, 224), \n",
    "    #    detector_backend = backends[4]\n",
    "    #)\n",
    "\n",
    "    #Detectar múltiples (https://sefiks.com/2021/04/27/deep-face-detection-with-retinaface-in-python/)\n",
    "    #Devuelve un dict\n",
    "    faces = RetinaFace.detect_faces(frame);\n",
    "    #Si hay detecciones\n",
    "    if len(faces) > 0:\n",
    "        #Dibuja contenedor y elementos faciales\n",
    "        for idx in range(1,len(faces)+1):\n",
    "            id = 'face_' + str(idx)\n",
    "            #Muestra información de caras\n",
    "            print(faces[id])\n",
    "            #Accediendo a contenedor de la cara\n",
    "            facial_area = faces[id]['facial_area']\n",
    "            #Accediendo a datos de los elementos faciales\n",
    "            landmarks = faces[id]['landmarks']\n",
    "            #Debug\n",
    "            #print(facial_area)\n",
    "            #print(landmarks)\n",
    "            \n",
    "            #Contenedor\n",
    "            cv2.rectangle(frame, (facial_area[2], facial_area[3])\n",
    "            , (facial_area[0], facial_area[1]), (255, 255, 255), 1)\n",
    "\n",
    "            #Elementos faciales\n",
    "            cv2.circle(frame, (int(landmarks[\"left_eye\"][0]),int(landmarks[\"left_eye\"][1])), 3, (0, 0, 255), -1)\n",
    "            cv2.circle(frame, (int(landmarks[\"right_eye\"][0]),int(landmarks[\"right_eye\"][1])), 3, (0, 0, 255), -1)\n",
    "            cv2.circle(frame, (int(landmarks[\"nose\"][0]),int(landmarks[\"nose\"][1])), 3, (255, 0, 0), -1)\n",
    "            cv2.circle(frame, (int(landmarks[\"mouth_left\"][0]),int(landmarks[\"mouth_left\"][1])), 3, (0, 255, 0), -1)\n",
    "            cv2.circle(frame, (int(landmarks[\"mouth_right\"][0]),int(landmarks[\"mouth_right\"][1])), 3, (0, 255, 0), -1)\n",
    "     \n",
    "    #Muestra imagen\n",
    "    cv2.imshow('Cam', frame)\n",
    "    \n",
    "    #Esperar por tecla o seguir\n",
    "    tec = cv2.waitKey(40)\n",
    "    if tec & tec == 27:  # Esc\n",
    "        break\n",
    "    \n",
    "#Cerrar ventanas y cámara\n",
    "cap.release()\n",
    "cv2.destroyAllWindows()"
   ]
  }
 ],
 "metadata": {
  "kernelspec": {
   "display_name": "Python 3.9.0 ('deepface')",
   "language": "python",
   "name": "python3"
  },
  "language_info": {
   "codemirror_mode": {
    "name": "ipython",
    "version": 3
   },
   "file_extension": ".py",
   "mimetype": "text/x-python",
   "name": "python",
   "nbconvert_exporter": "python",
   "pygments_lexer": "ipython3",
   "version": "3.11.5"
  },
  "vscode": {
   "interpreter": {
    "hash": "12028effb1af0cd2244438ff9b17d06bb1d7695ec7a554a144e43ec4b8b79006"
   }
  }
 },
 "nbformat": 4,
 "nbformat_minor": 2
}
