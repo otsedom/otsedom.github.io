{
 "cells": [
  {
   "cell_type": "code",
   "execution_count": null,
   "id": "4442edb1",
   "metadata": {},
   "outputs": [],
   "source": [
    "import os\n",
    "import cv2\n",
    "from deepface import DeepFace\n",
    "\n"
   ]
  },
  {
   "cell_type": "markdown",
   "id": "c6fd4a50",
   "metadata": {},
   "source": [
    "# Process image folder"
   ]
  },
  {
   "cell_type": "code",
   "execution_count": null,
   "id": "frank-length",
   "metadata": {},
   "outputs": [],
   "source": [
    "folder = './faces'\n",
    "\n",
    "print(folder)\n",
    "\n",
    "for file_name in os.listdir(folder):\n",
    "    # Asume imágenes en formato png o jpg\n",
    "    if file_name.endswith('.png') or file_name.endswith('.jpg'):\n",
    "        # Procesa la imagen que asume hay cara, no fuerza la detección\n",
    "        obj = DeepFace.analyze(img_path = os.path.join(folder, file_name), enforce_detection=False, actions =['age', 'gender', 'race', 'emotion'])\n",
    "        print(file_name)\n",
    "        print(obj)\n",
    "        #print(obj[\"region\"])\n",
    "        #print(obj[\"age\"])      \n",
    "        #print(obj[\"gender\"])      \n",
    "        #print(obj[\"race\"])       \n",
    "        #print(obj[\"dominant_race\"]) \n",
    "        #print(obj[\"emotion\"])\n",
    "        #print(obj[\"dominant_emotion\"])\n",
    "       \n",
    "        \n"
   ]
  },
  {
   "attachments": {},
   "cell_type": "markdown",
   "id": "643c68d5",
   "metadata": {},
   "source": [
    "Captura desde webcam"
   ]
  },
  {
   "cell_type": "code",
   "execution_count": 9,
   "id": "6b1843aa",
   "metadata": {},
   "outputs": [
    {
     "name": "stderr",
     "output_type": "stream",
     "text": [
      "Action: emotion: 100%|██████████| 2/2 [00:00<00:00,  4.90it/s]\n",
      "Action: emotion: 100%|██████████| 2/2 [00:00<00:00,  5.07it/s]\n"
     ]
    },
    {
     "name": "stdout",
     "output_type": "stream",
     "text": [
      "[{'gender': {'Woman': 0.026504346169531345, 'Man': 99.97349381446838}, 'dominant_gender': 'Man', 'region': {'x': 194, 'y': 127, 'w': 243, 'h': 243}, 'emotion': {'angry': 77.77432070817474, 'disgust': 2.0866818406827007e-07, 'fear': 0.8809565160248587, 'happy': 0.0009338985011745283, 'sad': 15.050675872008554, 'surprise': 0.035065659083614295, 'neutral': 6.258047000053346}, 'dominant_emotion': 'angry'}, {'gender': {'Woman': 2.9879601672291756, 'Man': 97.01204299926758}, 'dominant_gender': 'Man', 'region': {'x': 300, 'y': 254, 'w': 63, 'h': 63}, 'emotion': {'angry': 0.08202788885682821, 'disgust': 2.3693916620382005e-09, 'fear': 0.00022270787667366676, 'happy': 98.22085499763489, 'sad': 0.292613566853106, 'surprise': 0.0005659333965013502, 'neutral': 1.403721421957016}, 'dominant_emotion': 'happy'}]\n"
     ]
    },
    {
     "name": "stderr",
     "output_type": "stream",
     "text": [
      "Action: emotion: 100%|██████████| 2/2 [00:00<00:00,  4.93it/s]\n"
     ]
    },
    {
     "name": "stdout",
     "output_type": "stream",
     "text": [
      "[{'gender': {'Woman': 10.028049349784851, 'Man': 89.97195363044739}, 'dominant_gender': 'Man', 'region': {'x': 0, 'y': 0, 'w': 640, 'h': 480}, 'emotion': {'angry': 1.3389109199124505e-05, 'disgust': 4.6082462212411707e-14, 'fear': 99.8311996459961, 'happy': 3.1458253970523264e-10, 'sad': 0.00625165703240782, 'surprise': 0.1586622092872858, 'neutral': 0.0038755239074816927}, 'dominant_emotion': 'fear'}]\n"
     ]
    },
    {
     "name": "stderr",
     "output_type": "stream",
     "text": [
      "Action: emotion: 100%|██████████| 2/2 [00:00<00:00,  4.85it/s]\n"
     ]
    },
    {
     "name": "stdout",
     "output_type": "stream",
     "text": [
      "[{'gender': {'Woman': 0.7640247233211994, 'Man': 99.23598170280457}, 'dominant_gender': 'Man', 'region': {'x': 214, 'y': 113, 'w': 245, 'h': 245}, 'emotion': {'angry': 96.37198404931831, 'disgust': 2.714759585459404e-05, 'fear': 0.04400772683600805, 'happy': 0.0007889792899851213, 'sad': 0.6387311329670111, 'surprise': 0.006429498937656976, 'neutral': 2.9380332455674703}, 'dominant_emotion': 'angry'}]\n"
     ]
    },
    {
     "name": "stderr",
     "output_type": "stream",
     "text": [
      "Action: emotion: 100%|██████████| 2/2 [00:00<00:00,  5.02it/s]\n"
     ]
    },
    {
     "name": "stdout",
     "output_type": "stream",
     "text": [
      "[{'gender': {'Woman': 11.549291014671326, 'Man': 88.45071196556091}, 'dominant_gender': 'Man', 'region': {'x': 0, 'y': 0, 'w': 640, 'h': 480}, 'emotion': {'angry': 0.05070585757493973, 'disgust': 1.122969425781939e-09, 'fear': 91.03958010673523, 'happy': 2.0962307445415718e-06, 'sad': 7.00111985206604, 'surprise': 0.005076362867839634, 'neutral': 1.9035175442695618}, 'dominant_emotion': 'fear'}]\n"
     ]
    },
    {
     "name": "stderr",
     "output_type": "stream",
     "text": [
      "Action: emotion: 100%|██████████| 2/2 [00:00<00:00,  5.10it/s]\n"
     ]
    },
    {
     "name": "stdout",
     "output_type": "stream",
     "text": [
      "[{'gender': {'Woman': 11.11036241054535, 'Man': 88.88964056968689}, 'dominant_gender': 'Man', 'region': {'x': 0, 'y': 0, 'w': 640, 'h': 480}, 'emotion': {'angry': 0.01096378458627912, 'disgust': 2.438434334668379e-12, 'fear': 99.09149993556737, 'happy': 2.6250430738692974e-06, 'sad': 0.8758994863509519, 'surprise': 5.431673536750453e-06, 'neutral': 0.021630487422181658}, 'dominant_emotion': 'fear'}]\n"
     ]
    },
    {
     "name": "stderr",
     "output_type": "stream",
     "text": [
      "Action: emotion: 100%|██████████| 2/2 [00:00<00:00,  4.93it/s]\n"
     ]
    },
    {
     "name": "stdout",
     "output_type": "stream",
     "text": [
      "[{'gender': {'Woman': 12.004169076681137, 'Man': 87.99582719802856}, 'dominant_gender': 'Man', 'region': {'x': 0, 'y': 0, 'w': 640, 'h': 480}, 'emotion': {'angry': 0.0035740897146752104, 'disgust': 3.355385413961187e-09, 'fear': 91.1202609539032, 'happy': 1.5243908390402794, 'sad': 0.05179509171284735, 'surprise': 2.3774297907948494, 'neutral': 4.922546818852425}, 'dominant_emotion': 'fear'}]\n"
     ]
    },
    {
     "name": "stderr",
     "output_type": "stream",
     "text": [
      "Action: emotion: 100%|██████████| 2/2 [00:00<00:00,  4.89it/s]\n"
     ]
    },
    {
     "name": "stdout",
     "output_type": "stream",
     "text": [
      "[{'gender': {'Woman': 11.19050532579422, 'Man': 88.80949020385742}, 'dominant_gender': 'Man', 'region': {'x': 0, 'y': 0, 'w': 640, 'h': 480}, 'emotion': {'angry': 2.2083638279830955e-05, 'disgust': 1.5514847986240864e-14, 'fear': 0.39144281768457995, 'happy': 99.59987995623827, 'sad': 0.008437822319120753, 'surprise': 3.265818033040569e-05, 'neutral': 0.00018775067456265626}, 'dominant_emotion': 'happy'}]\n"
     ]
    },
    {
     "name": "stderr",
     "output_type": "stream",
     "text": [
      "Action: emotion: 100%|██████████| 2/2 [00:00<00:00,  5.00it/s]\n"
     ]
    },
    {
     "name": "stdout",
     "output_type": "stream",
     "text": [
      "[{'gender': {'Woman': 10.54239571094513, 'Man': 89.45760726928711}, 'dominant_gender': 'Man', 'region': {'x': 283, 'y': 262, 'w': 62, 'h': 62}, 'emotion': {'angry': 0.2976175397634506, 'disgust': 3.3754610218039716e-09, 'fear': 7.492095977067947, 'happy': 20.30957043170929, 'sad': 0.10586701100692153, 'surprise': 0.21033687517046928, 'neutral': 71.58451080322266}, 'dominant_emotion': 'neutral'}]\n"
     ]
    },
    {
     "name": "stderr",
     "output_type": "stream",
     "text": [
      "Action: emotion: 100%|██████████| 2/2 [00:00<00:00,  4.94it/s]\n"
     ]
    },
    {
     "name": "stdout",
     "output_type": "stream",
     "text": [
      "[{'gender': {'Woman': 10.358688235282898, 'Man': 89.64131474494934}, 'dominant_gender': 'Man', 'region': {'x': 0, 'y': 0, 'w': 640, 'h': 480}, 'emotion': {'angry': 0.00012147842198828585, 'disgust': 5.0013546752830345e-15, 'fear': 9.435345232486725, 'happy': 90.51417112350464, 'sad': 0.0065394226112402976, 'surprise': 0.043435528641566634, 'neutral': 0.00039194269447762053}, 'dominant_emotion': 'happy'}]\n"
     ]
    },
    {
     "name": "stderr",
     "output_type": "stream",
     "text": [
      "Action: emotion: 100%|██████████| 2/2 [00:00<00:00,  4.79it/s]\n"
     ]
    },
    {
     "name": "stdout",
     "output_type": "stream",
     "text": [
      "[{'gender': {'Woman': 8.859892934560776, 'Man': 91.14010334014893}, 'dominant_gender': 'Man', 'region': {'x': 0, 'y': 0, 'w': 640, 'h': 480}, 'emotion': {'angry': 0.00015654278309665446, 'disgust': 1.2353114331279836e-11, 'fear': 0.00040931079349738154, 'happy': 99.88840817740012, 'sad': 6.791985761191953e-05, 'surprise': 0.06309370886347943, 'neutral': 0.0478691711915908}, 'dominant_emotion': 'happy'}]\n"
     ]
    },
    {
     "name": "stderr",
     "output_type": "stream",
     "text": [
      "Action: emotion: 100%|██████████| 2/2 [00:00<00:00,  5.04it/s]\n"
     ]
    },
    {
     "name": "stdout",
     "output_type": "stream",
     "text": [
      "[{'gender': {'Woman': 8.995215594768524, 'Man': 91.00478291511536}, 'dominant_gender': 'Man', 'region': {'x': 0, 'y': 0, 'w': 640, 'h': 480}, 'emotion': {'angry': 0.03061014502952009, 'disgust': 3.000613635685894e-09, 'fear': 0.14186597600686837, 'happy': 99.80798962020998, 'sad': 0.0006538725431670337, 'surprise': 0.018803786165654073, 'neutral': 7.286991189975643e-05}, 'dominant_emotion': 'happy'}]\n"
     ]
    },
    {
     "name": "stderr",
     "output_type": "stream",
     "text": [
      "Action: emotion: 100%|██████████| 2/2 [00:00<00:00,  4.89it/s]\n"
     ]
    },
    {
     "name": "stdout",
     "output_type": "stream",
     "text": [
      "[{'gender': {'Woman': 8.17452296614647, 'Man': 91.82547330856323}, 'dominant_gender': 'Man', 'region': {'x': 0, 'y': 0, 'w': 640, 'h': 480}, 'emotion': {'angry': 0.612707668915391, 'disgust': 3.904534029430806e-07, 'fear': 96.28675580024719, 'happy': 1.560837123543024, 'sad': 0.37355883978307247, 'surprise': 0.591281708329916, 'neutral': 0.5748541560024023}, 'dominant_emotion': 'fear'}]\n"
     ]
    },
    {
     "name": "stderr",
     "output_type": "stream",
     "text": [
      "Action: emotion: 100%|██████████| 2/2 [00:00<00:00,  5.00it/s]\n"
     ]
    },
    {
     "name": "stdout",
     "output_type": "stream",
     "text": [
      "[{'gender': {'Woman': 8.697599917650223, 'Man': 91.30240082740784}, 'dominant_gender': 'Man', 'region': {'x': 0, 'y': 0, 'w': 640, 'h': 480}, 'emotion': {'angry': 9.067697487151923, 'disgust': 8.181670365092579e-07, 'fear': 9.470729890974773, 'happy': 77.67645982784512, 'sad': 1.6962142501814068, 'surprise': 1.2727188291884863, 'neutral': 0.8161706808303975}, 'dominant_emotion': 'happy'}]\n"
     ]
    },
    {
     "name": "stderr",
     "output_type": "stream",
     "text": [
      "Action: emotion: 100%|██████████| 2/2 [00:00<00:00,  4.81it/s]\n"
     ]
    },
    {
     "name": "stdout",
     "output_type": "stream",
     "text": [
      "[{'gender': {'Woman': 6.853572279214859, 'Man': 93.14642548561096}, 'dominant_gender': 'Man', 'region': {'x': 0, 'y': 0, 'w': 640, 'h': 480}, 'emotion': {'angry': 0.0004402565082273213, 'disgust': 3.2374263848895935e-22, 'fear': 0.00010715233429436921, 'happy': 65.18113017082214, 'sad': 6.37821131022065e-05, 'surprise': 1.0184164275783836e-09, 'neutral': 34.81826186180115}, 'dominant_emotion': 'happy'}]\n"
     ]
    },
    {
     "name": "stderr",
     "output_type": "stream",
     "text": [
      "Action: emotion: 100%|██████████| 2/2 [00:00<00:00,  5.00it/s]\n"
     ]
    },
    {
     "name": "stdout",
     "output_type": "stream",
     "text": [
      "[{'gender': {'Woman': 10.632289946079254, 'Man': 89.36770558357239}, 'dominant_gender': 'Man', 'region': {'x': 0, 'y': 0, 'w': 640, 'h': 480}, 'emotion': {'angry': 0.00890113806235604, 'disgust': 5.816211951070247e-15, 'fear': 0.05920400726608932, 'happy': 0.008811945735942572, 'sad': 0.011965321755269542, 'surprise': 4.648799389883607e-06, 'neutral': 99.91111159324646}, 'dominant_emotion': 'neutral'}]\n"
     ]
    },
    {
     "name": "stderr",
     "output_type": "stream",
     "text": [
      "Action: emotion: 100%|██████████| 2/2 [00:00<00:00,  5.03it/s]\n"
     ]
    },
    {
     "name": "stdout",
     "output_type": "stream",
     "text": [
      "[{'gender': {'Woman': 13.503578305244446, 'Man': 86.49641871452332}, 'dominant_gender': 'Man', 'region': {'x': 0, 'y': 0, 'w': 640, 'h': 480}, 'emotion': {'angry': 0.06386427558027208, 'disgust': 5.6868610298285716e-11, 'fear': 0.004970913869328797, 'happy': 27.529573440551758, 'sad': 2.563752979040146, 'surprise': 0.0011426114724599756, 'neutral': 69.83669400215149}, 'dominant_emotion': 'neutral'}]\n"
     ]
    },
    {
     "name": "stderr",
     "output_type": "stream",
     "text": [
      "Action: emotion: 100%|██████████| 2/2 [00:00<00:00,  5.15it/s]\n"
     ]
    },
    {
     "name": "stdout",
     "output_type": "stream",
     "text": [
      "[{'gender': {'Woman': 7.665614038705826, 'Man': 92.33437776565552}, 'dominant_gender': 'Man', 'region': {'x': 0, 'y': 0, 'w': 640, 'h': 480}, 'emotion': {'angry': 1.1107271144417388, 'disgust': 2.202210133738766e-05, 'fear': 0.03932820513471006, 'happy': 0.5905339256037563, 'sad': 96.86991013647197, 'surprise': 0.021122020945308097, 'neutral': 1.3683533527429876}, 'dominant_emotion': 'sad'}]\n"
     ]
    },
    {
     "name": "stderr",
     "output_type": "stream",
     "text": [
      "Action: emotion: 100%|██████████| 2/2 [00:00<00:00,  4.92it/s]\n"
     ]
    },
    {
     "name": "stdout",
     "output_type": "stream",
     "text": [
      "[{'gender': {'Woman': 0.5857203621417284, 'Man': 99.41428303718567}, 'dominant_gender': 'Man', 'region': {'x': 238, 'y': 98, 'w': 238, 'h': 238}, 'emotion': {'angry': 96.79256677627563, 'disgust': 0.0004305352376832161, 'fear': 0.48756743781268597, 'happy': 0.38617183454334736, 'sad': 1.6354771330952644, 'surprise': 0.051574985263869166, 'neutral': 0.646212650462985}, 'dominant_emotion': 'angry'}]\n"
     ]
    },
    {
     "name": "stderr",
     "output_type": "stream",
     "text": [
      "Action: emotion: 100%|██████████| 2/2 [00:00<00:00,  5.01it/s]\n"
     ]
    },
    {
     "name": "stdout",
     "output_type": "stream",
     "text": [
      "[{'gender': {'Woman': 10.798720270395279, 'Man': 89.20128345489502}, 'dominant_gender': 'Man', 'region': {'x': 0, 'y': 0, 'w': 640, 'h': 480}, 'emotion': {'angry': 0.0038386448537216246, 'disgust': 8.560252572981165e-07, 'fear': 92.58437708523137, 'happy': 6.052377435706701, 'sad': 0.48628931969638584, 'surprise': 0.060878232024802685, 'neutral': 0.8122388757609651}, 'dominant_emotion': 'fear'}]\n"
     ]
    },
    {
     "name": "stderr",
     "output_type": "stream",
     "text": [
      "Action: emotion: 100%|██████████| 2/2 [00:00<00:00,  4.95it/s]\n"
     ]
    },
    {
     "name": "stdout",
     "output_type": "stream",
     "text": [
      "[{'gender': {'Woman': 14.319820702075958, 'Man': 85.68018078804016}, 'dominant_gender': 'Man', 'region': {'x': 0, 'y': 0, 'w': 640, 'h': 480}, 'emotion': {'angry': 0.001289206179071167, 'disgust': 8.090837371603237e-08, 'fear': 88.72706822914292, 'happy': 9.270144806512882, 'sad': 1.4979390388988876, 'surprise': 0.008467428192417513, 'neutral': 0.49509269342378937}, 'dominant_emotion': 'fear'}]\n"
     ]
    },
    {
     "name": "stderr",
     "output_type": "stream",
     "text": [
      "Action: emotion: 100%|██████████| 2/2 [00:00<00:00,  5.01it/s]\n",
      "Action: emotion: 100%|██████████| 2/2 [00:00<00:00,  5.03it/s]\n"
     ]
    },
    {
     "name": "stdout",
     "output_type": "stream",
     "text": [
      "[{'gender': {'Woman': 0.7832757197320461, 'Man': 99.21671748161316}, 'dominant_gender': 'Man', 'region': {'x': 215, 'y': 147, 'w': 229, 'h': 229}, 'emotion': {'angry': 27.715337600152207, 'disgust': 3.26878332288831e-06, 'fear': 0.13854653130653874, 'happy': 0.002527485168031977, 'sad': 30.639318303980627, 'surprise': 0.00045467946583425777, 'neutral': 41.50381881044135}, 'dominant_emotion': 'neutral'}, {'gender': {'Woman': 11.674251407384872, 'Man': 88.32574486732483}, 'dominant_gender': 'Man', 'region': {'x': 308, 'y': 265, 'w': 58, 'h': 58}, 'emotion': {'angry': 46.45106536733325, 'disgust': 0.37545215053681724, 'fear': 39.87912954340821, 'happy': 0.013103378189511216, 'sad': 5.810377054169529, 'surprise': 0.39306445949501284, 'neutral': 7.077809324525675}, 'dominant_emotion': 'angry'}]\n"
     ]
    },
    {
     "name": "stderr",
     "output_type": "stream",
     "text": [
      "Action: emotion: 100%|██████████| 2/2 [00:00<00:00,  4.92it/s]\n",
      "Action: emotion: 100%|██████████| 2/2 [00:00<00:00,  5.14it/s]\n"
     ]
    },
    {
     "name": "stdout",
     "output_type": "stream",
     "text": [
      "[{'gender': {'Woman': 30.58827519416809, 'Man': 69.41172480583191}, 'dominant_gender': 'Man', 'region': {'x': 350, 'y': 334, 'w': 75, 'h': 75}, 'emotion': {'angry': 9.277280973033964, 'disgust': 2.4719169341547497e-05, 'fear': 1.7425770978675543, 'happy': 0.22375740978910982, 'sad': 0.44697125312514624, 'surprise': 0.09902922328363199, 'neutral': 88.21036149325141}, 'dominant_emotion': 'neutral'}, {'gender': {'Woman': 16.42349064350128, 'Man': 83.57651233673096}, 'dominant_gender': 'Man', 'region': {'x': 372, 'y': 273, 'w': 80, 'h': 80}, 'emotion': {'angry': 99.28677082061768, 'disgust': 0.0001495763513048587, 'fear': 0.6335947196930647, 'happy': 0.013062577636446804, 'sad': 0.06272726459428668, 'surprise': 5.518116807934348e-06, 'neutral': 0.003683106479002163}, 'dominant_emotion': 'angry'}]\n"
     ]
    },
    {
     "name": "stderr",
     "output_type": "stream",
     "text": [
      "Action: emotion: 100%|██████████| 2/2 [00:00<00:00,  4.88it/s]\n"
     ]
    },
    {
     "name": "stdout",
     "output_type": "stream",
     "text": [
      "[{'gender': {'Woman': 10.4963019490242, 'Man': 89.50369954109192}, 'dominant_gender': 'Man', 'region': {'x': 0, 'y': 0, 'w': 640, 'h': 480}, 'emotion': {'angry': 0.0025951814677682705, 'disgust': 5.4083616959097e-13, 'fear': 65.22307395935059, 'happy': 2.0435351189007633e-06, 'sad': 9.275932610034943, 'surprise': 0.021940709848422557, 'neutral': 25.4764586687088}, 'dominant_emotion': 'fear'}]\n"
     ]
    },
    {
     "name": "stderr",
     "output_type": "stream",
     "text": [
      "Action: emotion: 100%|██████████| 2/2 [00:00<00:00,  4.91it/s]\n"
     ]
    },
    {
     "name": "stdout",
     "output_type": "stream",
     "text": [
      "[{'gender': {'Woman': 1.4521808363497257, 'Man': 98.5478162765503}, 'dominant_gender': 'Man', 'region': {'x': 187, 'y': 129, 'w': 239, 'h': 239}, 'emotion': {'angry': 3.8121331483125687, 'disgust': 3.3797934611591585e-11, 'fear': 0.0015806701412657276, 'happy': 0.030230218544602394, 'sad': 7.256209850311279, 'surprise': 6.043093776497699e-05, 'neutral': 88.89978528022766}, 'dominant_emotion': 'neutral'}]\n"
     ]
    },
    {
     "name": "stderr",
     "output_type": "stream",
     "text": [
      "Action: emotion: 100%|██████████| 2/2 [00:00<00:00,  4.97it/s]\n"
     ]
    },
    {
     "name": "stdout",
     "output_type": "stream",
     "text": [
      "[{'gender': {'Woman': 0.6512967403978109, 'Man': 99.3487000465393}, 'dominant_gender': 'Man', 'region': {'x': 229, 'y': 151, 'w': 238, 'h': 238}, 'emotion': {'angry': 99.6788740158081, 'disgust': 0.0005676463388226693, 'fear': 0.0013859120372217149, 'happy': 0.0007052005457808264, 'sad': 0.1980246976017952, 'surprise': 0.0005050484560342738, 'neutral': 0.11993738589808345}, 'dominant_emotion': 'angry'}]\n"
     ]
    },
    {
     "name": "stderr",
     "output_type": "stream",
     "text": [
      "Action: emotion: 100%|██████████| 2/2 [00:00<00:00,  4.86it/s]\n"
     ]
    },
    {
     "name": "stdout",
     "output_type": "stream",
     "text": [
      "[{'gender': {'Woman': 1.379847712814808, 'Man': 98.62014651298523}, 'dominant_gender': 'Man', 'region': {'x': 234, 'y': 153, 'w': 228, 'h': 228}, 'emotion': {'angry': 0.24626825470477343, 'disgust': 1.3287128324482698e-16, 'fear': 2.537141767788853e-05, 'happy': 2.08309842264498e-05, 'sad': 0.10079414350911975, 'surprise': 1.1843260594446292e-06, 'neutral': 99.65289235115051}, 'dominant_emotion': 'neutral'}]\n"
     ]
    },
    {
     "name": "stderr",
     "output_type": "stream",
     "text": [
      "Action: emotion: 100%|██████████| 2/2 [00:00<00:00,  4.85it/s]\n"
     ]
    },
    {
     "name": "stdout",
     "output_type": "stream",
     "text": [
      "[{'gender': {'Woman': 9.405485540628433, 'Man': 90.59451222419739}, 'dominant_gender': 'Man', 'region': {'x': 0, 'y': 0, 'w': 640, 'h': 480}, 'emotion': {'angry': 0.0002458104437295635, 'disgust': 5.038182876250343e-16, 'fear': 99.15183777522074, 'happy': 5.346752873282689e-09, 'sad': 0.8407461958078263, 'surprise': 1.0167911918974164e-05, 'neutral': 0.007160487138453104}, 'dominant_emotion': 'fear'}]\n"
     ]
    },
    {
     "name": "stderr",
     "output_type": "stream",
     "text": [
      "Action: emotion: 100%|██████████| 2/2 [00:00<00:00,  4.98it/s]\n"
     ]
    },
    {
     "name": "stdout",
     "output_type": "stream",
     "text": [
      "[{'gender': {'Woman': 9.94662120938301, 'Man': 90.05337357521057}, 'dominant_gender': 'Man', 'region': {'x': 0, 'y': 0, 'w': 640, 'h': 480}, 'emotion': {'angry': 1.988299492545771e-05, 'disgust': 6.663440158569333e-17, 'fear': 99.97299909430737, 'happy': 3.5757035576557104e-08, 'sad': 0.02426358113565407, 'surprise': 0.00030238526943969285, 'neutral': 0.002415487104646093}, 'dominant_emotion': 'fear'}]\n"
     ]
    },
    {
     "name": "stderr",
     "output_type": "stream",
     "text": [
      "Action: emotion: 100%|██████████| 2/2 [00:00<00:00,  4.92it/s]\n"
     ]
    },
    {
     "name": "stdout",
     "output_type": "stream",
     "text": [
      "[{'gender': {'Woman': 9.252174943685532, 'Man': 90.74782133102417}, 'dominant_gender': 'Man', 'region': {'x': 0, 'y': 0, 'w': 640, 'h': 480}, 'emotion': {'angry': 0.0010381312386334401, 'disgust': 5.365034215795792e-15, 'fear': 97.68300638693609, 'happy': 5.709675295379866e-08, 'sad': 1.4497054673555771, 'surprise': 0.0010236988301486477, 'neutral': 0.8652282463150172}, 'dominant_emotion': 'fear'}]\n"
     ]
    },
    {
     "name": "stderr",
     "output_type": "stream",
     "text": [
      "Action: emotion: 100%|██████████| 2/2 [00:00<00:00,  5.00it/s]\n"
     ]
    },
    {
     "name": "stdout",
     "output_type": "stream",
     "text": [
      "[{'gender': {'Woman': 9.504540264606476, 'Man': 90.49546122550964}, 'dominant_gender': 'Man', 'region': {'x': 0, 'y': 0, 'w': 640, 'h': 480}, 'emotion': {'angry': 0.00010292366141584353, 'disgust': 2.9370977047474028e-16, 'fear': 99.68011379241943, 'happy': 9.149514923478819e-07, 'sad': 0.20512794144451618, 'surprise': 0.0002848912345143617, 'neutral': 0.11437112698331475}, 'dominant_emotion': 'fear'}]\n"
     ]
    },
    {
     "name": "stderr",
     "output_type": "stream",
     "text": [
      "Action: emotion: 100%|██████████| 2/2 [00:00<00:00,  5.05it/s]\n"
     ]
    },
    {
     "name": "stdout",
     "output_type": "stream",
     "text": [
      "[{'gender': {'Woman': 9.027646481990814, 'Man': 90.97235202789307}, 'dominant_gender': 'Man', 'region': {'x': 0, 'y': 0, 'w': 640, 'h': 480}, 'emotion': {'angry': 1.02306124460938e-05, 'disgust': 2.4657556126563913e-18, 'fear': 99.9657392501831, 'happy': 6.708629420211498e-11, 'sad': 0.025865441421046853, 'surprise': 0.007611601904500276, 'neutral': 0.0007712412298133131}, 'dominant_emotion': 'fear'}]\n"
     ]
    },
    {
     "name": "stderr",
     "output_type": "stream",
     "text": [
      "Action: emotion: 100%|██████████| 2/2 [00:00<00:00,  4.93it/s]\n"
     ]
    },
    {
     "name": "stdout",
     "output_type": "stream",
     "text": [
      "[{'gender': {'Woman': 9.321356564760208, 'Man': 90.67864418029785}, 'dominant_gender': 'Man', 'region': {'x': 0, 'y': 0, 'w': 640, 'h': 480}, 'emotion': {'angry': 3.667204566681903e-05, 'disgust': 3.5689660725009376e-18, 'fear': 99.89861845970154, 'happy': 8.635955584543678e-12, 'sad': 0.09668678394518793, 'surprise': 0.001274219812330557, 'neutral': 0.0033866032026708126}, 'dominant_emotion': 'fear'}]\n"
     ]
    },
    {
     "name": "stderr",
     "output_type": "stream",
     "text": [
      "Action: emotion: 100%|██████████| 2/2 [00:00<00:00,  5.05it/s]\n"
     ]
    },
    {
     "name": "stdout",
     "output_type": "stream",
     "text": [
      "[{'gender': {'Woman': 3.3824317157268524, 'Man': 96.61756753921509}, 'dominant_gender': 'Man', 'region': {'x': 255, 'y': 144, 'w': 219, 'h': 219}, 'emotion': {'angry': 6.7710064351558685, 'disgust': 4.277614720771261e-10, 'fear': 0.011757397442124784, 'happy': 0.0049055659474106506, 'sad': 0.09618175099603832, 'surprise': 0.0013172828403185122, 'neutral': 93.11482906341553}, 'dominant_emotion': 'neutral'}]\n"
     ]
    },
    {
     "name": "stderr",
     "output_type": "stream",
     "text": [
      "Action: emotion: 100%|██████████| 2/2 [00:00<00:00,  4.82it/s]\n",
      "Action: emotion: 100%|██████████| 2/2 [00:00<00:00,  5.13it/s]\n"
     ]
    },
    {
     "name": "stdout",
     "output_type": "stream",
     "text": [
      "[{'gender': {'Woman': 18.601365387439728, 'Man': 81.39863610267639}, 'dominant_gender': 'Man', 'region': {'x': 301, 'y': 340, 'w': 77, 'h': 77}, 'emotion': {'angry': 99.11243910267586, 'disgust': 0.32692162405977393, 'fear': 0.5231702080768471, 'happy': 0.0028809657931624082, 'sad': 0.033038644110293336, 'surprise': 0.0007949166975737723, 'neutral': 0.0007610872215797027}, 'dominant_emotion': 'angry'}, {'gender': {'Woman': 3.579164296388626, 'Man': 96.42083644866943}, 'dominant_gender': 'Man', 'region': {'x': 255, 'y': 141, 'w': 216, 'h': 216}, 'emotion': {'angry': 8.847252806857396, 'disgust': 2.9308782149576616e-08, 'fear': 0.0616898564138923, 'happy': 0.12122058100823051, 'sad': 1.7401411303961951, 'surprise': 0.005010165048903379, 'neutral': 89.22468359617493}, 'dominant_emotion': 'neutral'}]\n"
     ]
    },
    {
     "name": "stderr",
     "output_type": "stream",
     "text": [
      "Action: emotion: 100%|██████████| 2/2 [00:00<00:00,  4.94it/s]\n"
     ]
    },
    {
     "name": "stdout",
     "output_type": "stream",
     "text": [
      "[{'gender': {'Woman': 2.4880556389689445, 'Man': 97.5119411945343}, 'dominant_gender': 'Man', 'region': {'x': 258, 'y': 148, 'w': 209, 'h': 209}, 'emotion': {'angry': 10.964944958686829, 'disgust': 2.6703327193899895e-05, 'fear': 27.73401141166687, 'happy': 0.1051962492056191, 'sad': 0.7955667562782764, 'surprise': 1.435565296560526, 'neutral': 58.964693546295166}, 'dominant_emotion': 'neutral'}]\n"
     ]
    },
    {
     "name": "stderr",
     "output_type": "stream",
     "text": [
      "Action: emotion: 100%|██████████| 2/2 [00:00<00:00,  4.80it/s]\n",
      "Action: emotion: 100%|██████████| 2/2 [00:00<00:00,  5.12it/s]\n"
     ]
    },
    {
     "name": "stdout",
     "output_type": "stream",
     "text": [
      "[{'gender': {'Woman': 2.202644944190979, 'Man': 97.79735207557678}, 'dominant_gender': 'Man', 'region': {'x': 254, 'y': 148, 'w': 216, 'h': 216}, 'emotion': {'angry': 73.96166038970227, 'disgust': 0.0026540707514192386, 'fear': 6.703999584436466, 'happy': 0.2915596707541143, 'sad': 3.014700314140282, 'surprise': 0.12318491631404563, 'neutral': 15.902232718201551}, 'dominant_emotion': 'angry'}, {'gender': {'Woman': 10.893475264310837, 'Man': 89.10652995109558}, 'dominant_gender': 'Man', 'region': {'x': 347, 'y': 262, 'w': 62, 'h': 62}, 'emotion': {'angry': 10.797837376594543, 'disgust': 3.5869456827640533, 'fear': 68.15199851989746, 'happy': 0.09984265780076385, 'sad': 12.364277988672256, 'surprise': 0.2777405083179474, 'neutral': 4.721356183290482}, 'dominant_emotion': 'fear'}]\n"
     ]
    },
    {
     "name": "stderr",
     "output_type": "stream",
     "text": [
      "Action: emotion: 100%|██████████| 2/2 [00:00<00:00,  4.77it/s]\n"
     ]
    },
    {
     "name": "stdout",
     "output_type": "stream",
     "text": [
      "[{'gender': {'Woman': 8.04479867219925, 'Man': 91.95520281791687}, 'dominant_gender': 'Man', 'region': {'x': 0, 'y': 0, 'w': 640, 'h': 480}, 'emotion': {'angry': 0.0002480319153619348, 'disgust': 4.486988293234695e-15, 'fear': 99.82202649116516, 'happy': 2.7977474503781963e-09, 'sad': 0.16634265193715692, 'surprise': 0.003251594171160832, 'neutral': 0.008129160414682701}, 'dominant_emotion': 'fear'}]\n"
     ]
    },
    {
     "name": "stderr",
     "output_type": "stream",
     "text": [
      "Action: emotion: 100%|██████████| 2/2 [00:00<00:00,  5.04it/s]\n"
     ]
    },
    {
     "name": "stdout",
     "output_type": "stream",
     "text": [
      "[{'gender': {'Woman': 15.510275959968567, 'Man': 84.48972702026367}, 'dominant_gender': 'Man', 'region': {'x': 311, 'y': 337, 'w': 82, 'h': 82}, 'emotion': {'angry': 99.99906420702125, 'disgust': 0.00016943349565189561, 'fear': 0.00027900304602075594, 'happy': 6.83730517433981e-06, 'sad': 0.0003687116979234723, 'surprise': 1.0472016767306824e-06, 'neutral': 0.00011327648046398047}, 'dominant_emotion': 'angry'}]\n"
     ]
    },
    {
     "name": "stderr",
     "output_type": "stream",
     "text": [
      "Action: emotion: 100%|██████████| 2/2 [00:00<00:00,  4.92it/s]\n"
     ]
    },
    {
     "name": "stdout",
     "output_type": "stream",
     "text": [
      "[{'gender': {'Woman': 8.877936005592346, 'Man': 91.12206697463989}, 'dominant_gender': 'Man', 'region': {'x': 0, 'y': 0, 'w': 640, 'h': 480}, 'emotion': {'angry': 0.0005238426638243254, 'disgust': 2.3766735339608353e-15, 'fear': 99.31032657623291, 'happy': 1.8530028206287241e-09, 'sad': 0.6496084854006767, 'surprise': 0.00011077332828790531, 'neutral': 0.039432451012544334}, 'dominant_emotion': 'fear'}]\n"
     ]
    },
    {
     "name": "stderr",
     "output_type": "stream",
     "text": [
      "Action: emotion: 100%|██████████| 2/2 [00:00<00:00,  5.03it/s]\n"
     ]
    },
    {
     "name": "stdout",
     "output_type": "stream",
     "text": [
      "[{'gender': {'Woman': 9.287702292203903, 'Man': 90.71229696273804}, 'dominant_gender': 'Man', 'region': {'x': 0, 'y': 0, 'w': 640, 'h': 480}, 'emotion': {'angry': 0.013274080993141979, 'disgust': 1.383753126677167e-18, 'fear': 41.433292627334595, 'happy': 5.165169507381773e-11, 'sad': 13.651429116725922, 'surprise': 0.00010493434956515557, 'neutral': 44.90189552307129}, 'dominant_emotion': 'neutral'}]\n"
     ]
    },
    {
     "name": "stderr",
     "output_type": "stream",
     "text": [
      "Action: emotion: 100%|██████████| 2/2 [00:00<00:00,  5.13it/s]\n"
     ]
    },
    {
     "name": "stdout",
     "output_type": "stream",
     "text": [
      "[{'gender': {'Woman': 11.632959544658661, 'Man': 88.36703896522522}, 'dominant_gender': 'Man', 'region': {'x': 0, 'y': 0, 'w': 640, 'h': 480}, 'emotion': {'angry': 2.1981907028117583e-05, 'disgust': 6.095705358787828e-11, 'fear': 99.41923614855028, 'happy': 0.0001955649511879025, 'sad': 0.36387117420114123, 'surprise': 0.021167320471451163, 'neutral': 0.1955090207164896}, 'dominant_emotion': 'fear'}]\n"
     ]
    },
    {
     "name": "stderr",
     "output_type": "stream",
     "text": [
      "Action: emotion: 100%|██████████| 2/2 [00:00<00:00,  5.00it/s]\n"
     ]
    },
    {
     "name": "stdout",
     "output_type": "stream",
     "text": [
      "[{'gender': {'Woman': 11.706090718507767, 'Man': 88.29390406608582}, 'dominant_gender': 'Man', 'region': {'x': 0, 'y': 0, 'w': 640, 'h': 480}, 'emotion': {'angry': 0.0037648979801154308, 'disgust': 1.1114982526922614e-11, 'fear': 95.69594315338813, 'happy': 0.002005873045242159, 'sad': 2.3615310878716604, 'surprise': 0.004033391698008275, 'neutral': 1.932720423314521}, 'dominant_emotion': 'fear'}]\n"
     ]
    },
    {
     "name": "stderr",
     "output_type": "stream",
     "text": [
      "Action: emotion: 100%|██████████| 2/2 [00:00<00:00,  5.11it/s]\n"
     ]
    },
    {
     "name": "stdout",
     "output_type": "stream",
     "text": [
      "[{'gender': {'Woman': 10.273101180791855, 'Man': 89.72689509391785}, 'dominant_gender': 'Man', 'region': {'x': 0, 'y': 0, 'w': 640, 'h': 480}, 'emotion': {'angry': 0.00033057563086913433, 'disgust': 3.016003321992312e-13, 'fear': 99.47468638420105, 'happy': 3.844393603458229e-06, 'sad': 0.19506633980199695, 'surprise': 0.024821149418130517, 'neutral': 0.3050921717658639}, 'dominant_emotion': 'fear'}]\n"
     ]
    },
    {
     "name": "stderr",
     "output_type": "stream",
     "text": [
      "Action: emotion: 100%|██████████| 2/2 [00:00<00:00,  4.94it/s]\n"
     ]
    },
    {
     "name": "stdout",
     "output_type": "stream",
     "text": [
      "[{'gender': {'Woman': 10.474827885627747, 'Man': 89.52516913414001}, 'dominant_gender': 'Man', 'region': {'x': 0, 'y': 0, 'w': 640, 'h': 480}, 'emotion': {'angry': 0.00016487482525917585, 'disgust': 6.491836267093513e-14, 'fear': 99.39202070236206, 'happy': 3.1476190542889526e-05, 'sad': 0.13022217899560928, 'surprise': 0.03624924866016954, 'neutral': 0.44130682945251465}, 'dominant_emotion': 'fear'}]\n"
     ]
    },
    {
     "name": "stderr",
     "output_type": "stream",
     "text": [
      "Action: emotion: 100%|██████████| 2/2 [00:00<00:00,  5.01it/s]\n"
     ]
    },
    {
     "name": "stdout",
     "output_type": "stream",
     "text": [
      "[{'gender': {'Woman': 10.595817118883133, 'Man': 89.40417766571045}, 'dominant_gender': 'Man', 'region': {'x': 0, 'y': 0, 'w': 640, 'h': 480}, 'emotion': {'angry': 7.779547672726039e-05, 'disgust': 3.362451867638819e-14, 'fear': 99.94484782218933, 'happy': 5.2139704109777085e-06, 'sad': 0.03723636036738753, 'surprise': 0.007027350511634722, 'neutral': 0.010808458318933845}, 'dominant_emotion': 'fear'}]\n"
     ]
    },
    {
     "name": "stderr",
     "output_type": "stream",
     "text": [
      "Action: emotion: 100%|██████████| 2/2 [00:00<00:00,  4.64it/s]\n"
     ]
    },
    {
     "name": "stdout",
     "output_type": "stream",
     "text": [
      "[{'gender': {'Woman': 11.0258087515831, 'Man': 88.97419571876526}, 'dominant_gender': 'Man', 'region': {'x': 0, 'y': 0, 'w': 640, 'h': 480}, 'emotion': {'angry': 6.587030549496952e-05, 'disgust': 2.7785953990871737e-14, 'fear': 99.92945789870369, 'happy': 4.225826163298046e-07, 'sad': 0.053792316180382146, 'surprise': 0.00411565585611572, 'neutral': 0.012568444820940931}, 'dominant_emotion': 'fear'}]\n"
     ]
    },
    {
     "name": "stderr",
     "output_type": "stream",
     "text": [
      "Action: emotion: 100%|██████████| 2/2 [00:00<00:00,  4.99it/s]\n"
     ]
    },
    {
     "name": "stdout",
     "output_type": "stream",
     "text": [
      "[{'gender': {'Woman': 10.961231589317322, 'Man': 89.03877139091492}, 'dominant_gender': 'Man', 'region': {'x': 0, 'y': 0, 'w': 640, 'h': 480}, 'emotion': {'angry': 4.795910802308236e-05, 'disgust': 1.5992604296704364e-14, 'fear': 99.90106223244588, 'happy': 6.070478539531581e-07, 'sad': 0.07089047097691374, 'surprise': 0.004591718336786069, 'neutral': 0.02341198833435938}, 'dominant_emotion': 'fear'}]\n"
     ]
    },
    {
     "name": "stderr",
     "output_type": "stream",
     "text": [
      "Action: emotion: 100%|██████████| 2/2 [00:00<00:00,  4.74it/s]\n"
     ]
    },
    {
     "name": "stdout",
     "output_type": "stream",
     "text": [
      "[{'gender': {'Woman': 11.095621436834335, 'Man': 88.90437483787537}, 'dominant_gender': 'Man', 'region': {'x': 0, 'y': 0, 'w': 640, 'h': 480}, 'emotion': {'angry': 0.0001371336225020059, 'disgust': 5.862463788108374e-14, 'fear': 99.84489679336548, 'happy': 2.1541971761962486e-06, 'sad': 0.11782600777223706, 'surprise': 0.005940817209193483, 'neutral': 0.031200918601825833}, 'dominant_emotion': 'fear'}]\n"
     ]
    },
    {
     "name": "stderr",
     "output_type": "stream",
     "text": [
      "Action: emotion: 100%|██████████| 2/2 [00:00<00:00,  5.09it/s]\n"
     ]
    },
    {
     "name": "stdout",
     "output_type": "stream",
     "text": [
      "[{'gender': {'Woman': 10.865656286478043, 'Man': 89.13434743881226}, 'dominant_gender': 'Man', 'region': {'x': 0, 'y': 0, 'w': 640, 'h': 480}, 'emotion': {'angry': 0.00010345650738634231, 'disgust': 4.8799313234859304e-14, 'fear': 99.87028238838, 'happy': 1.0970465610290652e-06, 'sad': 0.0964681324752806, 'surprise': 0.005435333758787328, 'neutral': 0.027712020390394995}, 'dominant_emotion': 'fear'}]\n"
     ]
    },
    {
     "name": "stderr",
     "output_type": "stream",
     "text": [
      "Action: emotion: 100%|██████████| 2/2 [00:00<00:00,  5.09it/s]\n"
     ]
    },
    {
     "name": "stdout",
     "output_type": "stream",
     "text": [
      "[{'gender': {'Woman': 11.082469671964645, 'Man': 88.9175295829773}, 'dominant_gender': 'Man', 'region': {'x': 0, 'y': 0, 'w': 640, 'h': 480}, 'emotion': {'angry': 0.00014574052061220823, 'disgust': 6.156359706160424e-14, 'fear': 99.8749792501318, 'happy': 1.8289545191577085e-06, 'sad': 0.10415968174694072, 'surprise': 0.004104493445076589, 'neutral': 0.01661037921492408}, 'dominant_emotion': 'fear'}]\n"
     ]
    },
    {
     "name": "stderr",
     "output_type": "stream",
     "text": [
      "Action: emotion: 100%|██████████| 2/2 [00:00<00:00,  4.99it/s]\n"
     ]
    },
    {
     "name": "stdout",
     "output_type": "stream",
     "text": [
      "[{'gender': {'Woman': 10.704390704631805, 'Man': 89.29560780525208}, 'dominant_gender': 'Man', 'region': {'x': 0, 'y': 0, 'w': 640, 'h': 480}, 'emotion': {'angry': 4.4771959832519457e-05, 'disgust': 1.776097567893598e-14, 'fear': 99.87476467339782, 'happy': 1.5286468114312788e-06, 'sad': 0.08513452992645085, 'surprise': 0.005199024909164378, 'neutral': 0.03485748810309846}, 'dominant_emotion': 'fear'}]\n"
     ]
    },
    {
     "name": "stderr",
     "output_type": "stream",
     "text": [
      "Action: emotion: 100%|██████████| 2/2 [00:00<00:00,  5.15it/s]\n"
     ]
    },
    {
     "name": "stdout",
     "output_type": "stream",
     "text": [
      "[{'gender': {'Woman': 9.34777557849884, 'Man': 90.6522274017334}, 'dominant_gender': 'Man', 'region': {'x': 0, 'y': 0, 'w': 640, 'h': 480}, 'emotion': {'angry': 2.4792389353746356e-05, 'disgust': 9.148174751301865e-15, 'fear': 99.8434424307014, 'happy': 4.679281241611875e-07, 'sad': 0.08694002108104652, 'surprise': 0.004035351834737247, 'neutral': 0.06555815734502121}, 'dominant_emotion': 'fear'}]\n"
     ]
    },
    {
     "name": "stderr",
     "output_type": "stream",
     "text": [
      "Action: emotion: 100%|██████████| 2/2 [00:00<00:00,  4.92it/s]\n"
     ]
    },
    {
     "name": "stdout",
     "output_type": "stream",
     "text": [
      "[{'gender': {'Woman': 10.521147400140762, 'Man': 89.47885036468506}, 'dominant_gender': 'Man', 'region': {'x': 0, 'y': 0, 'w': 640, 'h': 480}, 'emotion': {'angry': 5.846382009622175e-05, 'disgust': 1.8690537558956916e-17, 'fear': 99.99421834945679, 'happy': 4.107210405113193e-09, 'sad': 0.004134355185669847, 'surprise': 0.0014873985492158681, 'neutral': 9.934177569448366e-05}, 'dominant_emotion': 'fear'}]\n"
     ]
    },
    {
     "name": "stderr",
     "output_type": "stream",
     "text": [
      "Action: emotion: 100%|██████████| 2/2 [00:00<00:00,  4.97it/s]\n"
     ]
    },
    {
     "name": "stdout",
     "output_type": "stream",
     "text": [
      "[{'gender': {'Woman': 9.941644966602325, 'Man': 90.0583565235138}, 'dominant_gender': 'Man', 'region': {'x': 0, 'y': 0, 'w': 640, 'h': 480}, 'emotion': {'angry': 0.0004100756541447481, 'disgust': 8.80021620941254e-18, 'fear': 98.14149737358093, 'happy': 6.685337006206993e-09, 'sad': 0.6594379432499409, 'surprise': 0.00010439426887387526, 'neutral': 1.1985529214143753}, 'dominant_emotion': 'fear'}]\n"
     ]
    }
   ],
   "source": [
    "import cv2\n",
    "from deepface import DeepFace\n",
    "\n",
    "vid = cv2.VideoCapture(0)\n",
    "\n",
    "# font \n",
    "font = cv2.FONT_HERSHEY_SIMPLEX\n",
    "fontScale = 1\n",
    "color = (255, 0, 0) \n",
    "thickness = 2 \n",
    "pos = (50, 50) \n",
    "  \n",
    "while(True):      \n",
    "    # fotograma a fotograma\n",
    "    ret, frame = vid.read()\n",
    "  \n",
    "    if ret:  \n",
    "        obj = DeepFace.analyze(img_path = frame, enforce_detection=False, actions =['gender', 'emotion'])\n",
    "        print(obj)\n",
    "\n",
    "        # Primera cara\n",
    "        image = cv2.putText(frame, str(obj[0]['dominant_gender']+' '+obj[0]['dominant_emotion']), pos, font,  \n",
    "                        fontScale, color, thickness, cv2.LINE_AA) \n",
    "        # Muestra fotograma\n",
    "        cv2.imshow('Vid', frame)\n",
    "    \n",
    "    # Detenemos pulsado ESC\n",
    "    if cv2.waitKey(20) == 27:\n",
    "        break\n",
    "  \n",
    "# Libera el objeto de captura\n",
    "vid.release()\n",
    "# Destruye ventanas\n",
    "cv2.destroyAllWindows()"
   ]
  }
 ],
 "metadata": {
  "kernelspec": {
   "display_name": "Python 3.9.0 ('deepface')",
   "language": "python",
   "name": "python3"
  },
  "language_info": {
   "codemirror_mode": {
    "name": "ipython",
    "version": 3
   },
   "file_extension": ".py",
   "mimetype": "text/x-python",
   "name": "python",
   "nbconvert_exporter": "python",
   "pygments_lexer": "ipython3",
   "version": "3.9.0"
  },
  "vscode": {
   "interpreter": {
    "hash": "12028effb1af0cd2244438ff9b17d06bb1d7695ec7a554a144e43ec4b8b79006"
   }
  }
 },
 "nbformat": 4,
 "nbformat_minor": 5
}
