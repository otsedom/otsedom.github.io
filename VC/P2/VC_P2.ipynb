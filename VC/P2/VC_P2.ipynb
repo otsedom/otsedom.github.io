{
 "cells": [
  {
   "cell_type": "markdown",
   "metadata": {},
   "source": [
    "#Paquetes necesarios"
   ]
  },
  {
   "cell_type": "code",
   "execution_count": 1,
   "metadata": {},
   "outputs": [],
   "source": [
    "import cv2  \n",
    "import numpy as np\n",
    "import matplotlib.pyplot as plt"
   ]
  },
  {
   "cell_type": "markdown",
   "metadata": {},
   "source": [
    "Carga imagen desde archivo y convierte a RGB"
   ]
  },
  {
   "cell_type": "code",
   "execution_count": null,
   "metadata": {},
   "outputs": [],
   "source": [
    "#Lee imagen de archivo\n",
    "img = cv2.imread('mandril.jpg') \n",
    "\n",
    "#Si hay lectura correcta\n",
    "if img is not None:\n",
    "    #Muestra dimensiones\n",
    "    print(img.shape)\n",
    "    #Mostramos la imagen original con matplotlib\n",
    "    plt.figure()\n",
    "    #Eliminamos etiquetas de los ejes\n",
    "    plt.axis(\"off\")\n",
    "    plt.imshow(img) \n",
    "    plt.show()\n",
    "\n",
    "    #Recordar que OpenCV lee las imágenes almacenando en formato BGR, por lo que convertimos para visualizr de forma correcta a RGB\n",
    "    img_rgb = cv2.cvtColor(img, cv2.COLOR_BGR2RGB)\n",
    "    #Muestra la imagen tras convertir a RGB\n",
    "    #Eliminamos etiquetas de los ejes\n",
    "    plt.figure()\n",
    "    plt.axis(\"off\")\n",
    "    plt.imshow(img_rgb) \n",
    "    plt.show()\n",
    "else: \n",
    "    print('Imagen no encontrada')"
   ]
  },
  {
   "cell_type": "markdown",
   "metadata": {},
   "source": [
    "Convierte a grises para procesamiento posterior"
   ]
  },
  {
   "cell_type": "code",
   "execution_count": null,
   "metadata": {},
   "outputs": [],
   "source": [
    "#Conversión de la imagen a niveles de grises de la imagen original en BGR\n",
    "gris = cv2.cvtColor(img, cv2.COLOR_BGR2GRAY)\n",
    "print(gris.shape)\n",
    "#Muestra, indicando el mapa de color de grises con matplotlib\n",
    "plt.figure()\n",
    "#Eliminamos etiquetas de los ejes\n",
    "plt.axis(\"off\")\n",
    "plt.imshow(gris, cmap='gray') \n",
    "plt.show()\n"
   ]
  },
  {
   "cell_type": "markdown",
   "metadata": {},
   "source": [
    "Canny, detector de contornos multietapa. Tratado en las sesiones de teoría (tema 4)"
   ]
  },
  {
   "cell_type": "code",
   "execution_count": null,
   "metadata": {},
   "outputs": [],
   "source": [
    "#Obtiene contornos con el operador de Canny\n",
    "canny = cv2.Canny(gris, 100, 200)\n",
    "#print(canny) #Muestra contenido, valores 0 o 255\n",
    "#Visualiza resultado\n",
    "plt.imshow(canny, cmap='gray') \n",
    "plt.show()\n"
   ]
  },
  {
   "cell_type": "markdown",
   "metadata": {},
   "source": [
    "Contar el número de píxeles no nulos por columna y visualizar"
   ]
  },
  {
   "cell_type": "code",
   "execution_count": null,
   "metadata": {},
   "outputs": [],
   "source": [
    "#El contenido de la imagen resultado de Canny, son valores 0 o 255, lo compruebas al descomentar\n",
    "#print(canny)\n",
    "#Cuenta el número de píxeles blancos (255) por columna\n",
    "#Suma los valores de los pixeles por columna\n",
    "col_counts = cv2.reduce(canny, 0, cv2.REDUCE_SUM, dtype=cv2.CV_32SC1)\n",
    "\n",
    "#Normaliza en base al número de filas, primer valor devuelto por shape, y al valor máximo del píxel (255)\n",
    "#El resultado será el número de píxeles blancos por columna\n",
    "cols = col_counts[0] / (255 * canny.shape[0])\n",
    "\n",
    "#Muestra dicha cuenta gráficamente\n",
    "plt.figure()\n",
    "plt.subplot(1, 2, 1)\n",
    "plt.axis(\"off\")\n",
    "plt.title(\"Canny\")\n",
    "plt.imshow(canny, cmap='gray') \n",
    "\n",
    "plt.subplot(1, 2, 2)\n",
    "plt.title(\"Respuesta de Canny\")\n",
    "plt.xlabel(\"Columnas\")\n",
    "plt.ylabel(\"% píxeles\")\n",
    "plt.plot(cols)\n",
    "#Rango en x definido por las columnas\n",
    "plt.xlim([0, canny.shape[1]])"
   ]
  },
  {
   "cell_type": "markdown",
   "metadata": {},
   "source": [
    "TAREA: Realiza la cuenta de píxeles blancos por filas (en lugar de por columnas). Determina el valor máximo de píxeles blancos para filas, maxfil, mostrando el número de filas y sus respectivas posiciones, con un número de píxeles blancos mayor o igual que 0.95*maxfil."
   ]
  },
  {
   "cell_type": "markdown",
   "metadata": {},
   "source": [
    "Sobel. Cuando hay un borde, el valor de intensidad de los píxeles cercanos cambia de forma notable, calcular las derivadas proporciona una evidencia de dicho cambio. El operador de Sobel aproxima el cálculo de la derivada aplicando un kernel de tamaño impar basado en el patrón [1 2 1]."
   ]
  },
  {
   "cell_type": "code",
   "execution_count": null,
   "metadata": {},
   "outputs": [],
   "source": [
    "# Gaussiana para suavizar la imagen original, eliminando altas frecuencias\n",
    "ggris = cv2.GaussianBlur(gris, (3, 3), 0)\n",
    "\n",
    "#Calcula en ambas direcciones (horizontal y vertical)\n",
    "sobelx = cv2.Sobel(ggris, cv2.CV_64F, 1, 0)  # x\n",
    "sobely = cv2.Sobel(ggris, cv2.CV_64F, 0, 1)  # y\n",
    "#Combina ambos resultados\n",
    "sobel = cv2.add(sobelx, sobely)\n",
    "\n",
    "#Muestra ambos resultados\n",
    "plt.figure()\n",
    "plt.subplot(1, 3, 1)\n",
    "plt.axis(\"off\")\n",
    "plt.title('Bordes verticales')\n",
    "#Verticales\n",
    "#Para visualizar convierte a escala manejable en una imagen de grises\n",
    "plt.imshow(cv2.convertScaleAbs(sobelx), cmap='gray') \n",
    "#plt.imshow(sobelx, cmap='gray') #Prueba sin convertir escala\n",
    "\n",
    "plt.subplot(1, 3, 2)\n",
    "plt.axis(\"off\")\n",
    "plt.title('Bordes horizontales')\n",
    "#Horizontales\n",
    "#Para visualizar convierte a escala manejable en una imagen de grises\n",
    "plt.imshow(cv2.convertScaleAbs(sobely), cmap='gray') \n",
    "#plt.imshow(sobelx, cmap='gray') #Prueba sin convertir escala\n",
    "\n",
    "plt.subplot(1, 3, 3)\n",
    "plt.axis(\"off\")\n",
    "plt.title('Bordes combinados')\n",
    "#Para visualizar convierte a escala manejable en una imagen de grises\n",
    "plt.imshow(cv2.convertScaleAbs(sobel), cmap='gray') \n",
    "#plt.imshow(sobel, cmap='gray') #Prueba sin convertir escala\n",
    "plt.show()"
   ]
  },
  {
   "cell_type": "markdown",
   "metadata": {},
   "source": [
    "Visualizar la imagen resultado de Sobel directamenet como escala de grises produce un resultado diferente. Ha sido necesario convertir a datos de tipo byte. La siguiente celda muestra los valores antes y tras escalar a 8 bits"
   ]
  },
  {
   "cell_type": "code",
   "execution_count": null,
   "metadata": {},
   "outputs": [],
   "source": [
    "# Mostrar el tipo de dato de los valores en la imagen soble, además de valores máximo y mínimo\n",
    "print(f\"Tipo de datos, valor mínimo y máximo en sobel: {sobel.dtype}, {np.min(sobel)}, {np.max(sobel)}\")\n",
    "\n",
    "# Conversión a byte con openCV\n",
    "sobel8 = cv2.convertScaleAbs(sobel)\n",
    "# Mostrar el tipo de dato de los valores en la imagen soble, además de valores máximo y mínimo\n",
    "print(f\"Tipo de datos, valor mínimo y máximo en sobel8_v1: {sobel8.dtype}, {np.min(sobel8)}, {np.max(sobel8)}\")"
   ]
  },
  {
   "cell_type": "markdown",
   "metadata": {},
   "source": [
    "Umbralizado de una imagen"
   ]
  },
  {
   "cell_type": "code",
   "execution_count": null,
   "metadata": {},
   "outputs": [],
   "source": [
    "#Define valor umbral\n",
    "valorUmbral = 130 #Prueba otros valores\n",
    "#Obtiene imagen umbralizada para dicho valor definido\n",
    "_, imagenUmbralizada = cv2.threshold(gris, valorUmbral, 255, cv2.THRESH_BINARY)\n",
    "#Muestra resultado\n",
    "plt.imshow(imagenUmbralizada, cmap='gray')\n",
    "plt.show()\n",
    "\n",
    "#El umbralizado inverso, los valores menores que el umbral se muestran en blanco\n",
    "_, imagenUmbralizada = cv2.threshold(gris, valorUmbral, 255, cv2.THRESH_BINARY_INV)\n",
    "#Muestra resultado\n",
    "plt.imshow(imagenUmbralizada, cmap='gray')\n",
    "plt.show()\n",
    "\n",
    "imagenEnRango = cv2.inRange(gris, 150, 200)\n",
    "#Muestra resultado\n",
    "plt.imshow(imagenEnRango, cmap='gray')\n",
    "plt.show()"
   ]
  },
  {
   "cell_type": "markdown",
   "metadata": {},
   "source": [
    "El histograma de una imagen aporta información sobre el valor de umbral a elegir para ciertas situaciones"
   ]
  },
  {
   "cell_type": "code",
   "execution_count": null,
   "metadata": {},
   "outputs": [],
   "source": [
    "#Cálculo del histograma de una imagen en escala de grises\n",
    "hist = cv2.calcHist([gris], [0], None, [256], [0, 256])\n",
    "\n",
    "plt.figure()\n",
    "plt.axis(\"off\")\n",
    "plt.imshow(gris, cmap='gray')\n",
    "\n",
    "# Histograma sin normalizar\n",
    "plt.figure()\n",
    "plt.subplot(1, 2, 1)\n",
    "plt.title(\"Histograma\")\n",
    "plt.xlabel(\"Bins\")\n",
    "plt.ylabel(\"# píxeles\")\n",
    "plt.plot(hist)\n",
    "plt.xlim([0, 256])\n",
    "\n",
    "#Normaliza el histograma en base al número de píxeles y lo muestra\n",
    "hist /= hist.sum()\n",
    "\n",
    "plt.subplot(1, 2, 2)\n",
    "plt.title(\"Histograma\")\n",
    "plt.xlabel(\"Bins\")\n",
    "plt.ylabel(\"% píxeles\")\n",
    "plt.tight_layout(pad=3.0) #separación entre plots\n",
    "plt.plot(hist)\n",
    "plt.xlim([0, 256])"
   ]
  },
  {
   "cell_type": "markdown",
   "metadata": {},
   "source": [
    "TAREA: Aplica umbralizado a la imagen resultante de Sobel (convertida a 8 bits), y posteriormente realiza el conteo por filas y columnas similar al realizado en el ejemplo con la salida de Canny de píxeles no nulos. Calcula el valor máximo de la cuenta por filas y columnas, y determina las filas y columnas por encima del 0.95*máximo. Remarca con alguna primitiva gráfica dichas filas y columnas sobre la imagen. ¿Cómo se comparan los resultados obtenidos a partir de Sobel y Canny?"
   ]
  },
  {
   "cell_type": "markdown",
   "metadata": {},
   "source": [
    "Diferencia de imágenes"
   ]
  },
  {
   "cell_type": "code",
   "execution_count": null,
   "metadata": {},
   "outputs": [],
   "source": [
    "#Calcula la diferencia entre dos imágenes\n",
    "#Utiliza la imagen original y la obtenida tras aplicar la gaussiana (creada en la celda dedicada a Sobel)\n",
    "dif = cv2.absdiff(gris, ggris)\n",
    "\n",
    "#Visualiza\n",
    "plt.figure()\n",
    "plt.subplot(1, 2, 1)\n",
    "plt.title(\"Diferencias\")\n",
    "plt.axis(\"off\")\n",
    "plt.imshow(dif, cmap='gray') \n",
    "\n",
    "#Zonas de mayor diferencia tras aplicar umbral\n",
    "res, imgdif = cv2.threshold(dif, 30, 255, cv2.THRESH_BINARY)\n",
    "#Visualiza\n",
    "plt.subplot(1, 2, 2)\n",
    "plt.title(\"Mayores\")\n",
    "plt.axis(\"off\")\n",
    "plt.imshow(imgdif, cmap='gray') \n",
    "plt.show()\n"
   ]
  },
  {
   "cell_type": "markdown",
   "metadata": {},
   "source": [
    "Webcam y sustracción de fotogramas"
   ]
  },
  {
   "cell_type": "code",
   "execution_count": null,
   "metadata": {},
   "outputs": [],
   "source": [
    "vid = cv2.VideoCapture(0)\n",
    "\n",
    "#Marca de inicio\n",
    "disponible = 0 \n",
    "while(True):      \n",
    "    # fotograma a fotograma\n",
    "    ret, frame = vid.read()\n",
    "\n",
    "    if ret:\n",
    "        if disponible > 0:\n",
    "            dif = cv2.absdiff(frame, pframe)        \n",
    "            # Muestra resultado\n",
    "            cv2.imshow('Diferencia', dif)    \n",
    "        else:\n",
    "            disponible = 1\n",
    "\n",
    "        #Copia fotograma actual para la diferencia en el siguiente forograma\n",
    "        pframe = frame.copy()\n",
    "    # Detenemos pulsado ESC\n",
    "    if cv2.waitKey(20) == 27:\n",
    "        break\n",
    "  \n",
    "# Libera el objeto de captura\n",
    "vid.release()\n",
    "# Destruye ventanas\n",
    "cv2.destroyAllWindows()"
   ]
  },
  {
   "cell_type": "markdown",
   "metadata": {},
   "source": [
    "Webcam y sustracción de modelo del fondo"
   ]
  },
  {
   "cell_type": "code",
   "execution_count": null,
   "metadata": {},
   "outputs": [],
   "source": [
    "vid = cv2.VideoCapture(0)\n",
    "\n",
    "# Fondo\n",
    "# Inicializa la sustracción del fondo con mezcla de gaussianas y detección de sombras\n",
    "eliminadorFondo = cv2.createBackgroundSubtractorMOG2(history=100, varThreshold=50, detectShadows=True)\n",
    "  \n",
    "while(True):      \n",
    "    # fotograma a fotograma\n",
    "    ret, frame = vid.read()\n",
    "\n",
    "    if ret:\n",
    "        # Aplica efecto espejo sobre la entrada\n",
    "        framem=cv2.flip(frame, 1)\n",
    "\n",
    "        \n",
    "        #Con un segundo parámerto se puede definir máscara con zonas a actualizar\n",
    "        objetos = eliminadorFondo.apply(framem)\n",
    "        #objetos = eliminadorFondo.apply(framem, objetos, 0)  #No actualiza el fondo\n",
    "        # Obtiene fondo\n",
    "        background = eliminadorFondo.getBackgroundImage()\n",
    "\n",
    "        # Muestra resultado\n",
    "        cv2.imshow('Fotograma', objetos)\n",
    "        # Muestra fondo\n",
    "        cv2.imshow('Fondo', background)\n",
    "  \n",
    "   \n",
    "    # Detenemos pulsado ESC\n",
    "    if cv2.waitKey(20) == 27:\n",
    "        break\n",
    "  \n",
    "# Libera el objeto de captura\n",
    "vid.release()\n",
    "# Destruye ventanas\n",
    "cv2.destroyAllWindows()"
   ]
  },
  {
   "cell_type": "markdown",
   "metadata": {},
   "source": [
    "\n",
    "TAREA: Proponer un demostrador que capture las imágenes de la cámara, y les permita exhibir lo aprendido en estas dos prácticas ante quienes no cursen la asignatura :). Es por ello que además de poder mostrar la imagen original de la webcam, incluya al menos dos usos diferentes de aplicar las funciones de OpenCV trabajadas hasta ahora.\n"
   ]
  },
  {
   "cell_type": "markdown",
   "metadata": {},
   "source": [
    "TAREA: Tras ver los vídeos [My little piece of privacy](https://www.niklasroy.com/project/88/my-little-piece-of-privacy), [Messa di voce](https://youtu.be/GfoqiyB1ndE?feature=shared) y [Virtual air guitar](https://youtu.be/FIAmyoEpV5c?feature=shared) proponer un demostrador reinterpretando la parte de procesamiento de la imagen, tomando como punto de partida alguna de dichas instalaciones."
   ]
  }
 ],
 "metadata": {
  "kernelspec": {
   "display_name": "Python 3.7.3 ('FACES')",
   "language": "python",
   "name": "python3"
  },
  "language_info": {
   "codemirror_mode": {
    "name": "ipython",
    "version": 3
   },
   "file_extension": ".py",
   "mimetype": "text/x-python",
   "name": "python",
   "nbconvert_exporter": "python",
   "pygments_lexer": "ipython3",
   "version": "3.7.16"
  },
  "orig_nbformat": 4,
  "vscode": {
   "interpreter": {
    "hash": "ea3a1ee99ce326e593ddb52cd278556d527fcb6552c40e2a47b1efb9d0183637"
   }
  }
 },
 "nbformat": 4,
 "nbformat_minor": 2
}
